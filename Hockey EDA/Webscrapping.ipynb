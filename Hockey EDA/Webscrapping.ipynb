{
 "cells": [
  {
   "cell_type": "code",
   "execution_count": null,
   "metadata": {},
   "outputs": [],
   "source": [
    "import requests\n",
    "from bs4 import BeautifulSoup\n",
    "import pandas as pd\n",
    "\n",
    "base_url = \"https://www.scrapethissite.com/pages/forms/\"\n",
    "teams_data = []\n",
    "\n",
    "for page_num in range(1, 26):  # Loop through 25 pages\n",
    "    url = f\"{base_url}?page_num={page_num}\"\n",
    "    response = requests.get(url)\n",
    "    html_content = response.content\n",
    "\n",
    "    soup = BeautifulSoup(html_content, 'html.parser')\n",
    "    team_rows = soup.select('tr.team')\n",
    "\n",
    "    for row in team_rows:\n",
    "        name = row.select_one('td.name').text.strip()\n",
    "        year = int(row.select_one('td.year').text.strip())\n",
    "        wins = int(row.select_one('td.wins').text.strip())\n",
    "        losses = int(row.select_one('td.losses').text.strip())\n",
    "        ot_losses = int(row.select_one('td.ot-losses').text.strip() or 0)\n",
    "        win_pct = float(row.select_one('td.pct').text.strip())\n",
    "        goals_for = int(row.select_one('td.gf').text.strip())\n",
    "        goals_against = int(row.select_one('td.ga').text.strip())\n",
    "        goal_diff = int(row.select_one('td.diff').text.strip())\n",
    "\n",
    "        team_data = {\n",
    "            'Team Name': name,\n",
    "            'Year': year,\n",
    "            'Wins': wins,\n",
    "            'Losses': losses,\n",
    "            'OT_Losses': ot_losses,\n",
    "            'Win %': win_pct,\n",
    "            'Goals_For': goals_for,\n",
    "            'Goals_Against': goals_against,\n",
    "            'Goal_Diff': goal_diff\n",
    "        }\n",
    "\n",
    "        teams_data.append(team_data)\n",
    "\n",
    "\n",
    "\n",
    "df = pd.DataFrame(teams_data)\n",
    "\n",
    "df.to_csv('hockey.csv',index=False)\n",
    "\n",
    "print(df)\n"
   ]
  }
 ],
 "metadata": {
  "kernelspec": {
   "display_name": "venv",
   "language": "python",
   "name": "python3"
  },
  "language_info": {
   "name": "python",
   "version": "3.11.8"
  }
 },
 "nbformat": 4,
 "nbformat_minor": 2
}
